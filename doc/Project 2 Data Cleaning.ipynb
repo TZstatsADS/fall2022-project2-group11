{
 "cells": [
  {
   "cell_type": "code",
   "execution_count": 124,
   "id": "f692aa76",
   "metadata": {},
   "outputs": [],
   "source": [
    "import numpy as np\n",
    "import pandas as pd \n",
    "from matplotlib import pyplot as plt\n",
    "import seaborn as sns\n",
    "%matplotlib inline"
   ]
  },
  {
   "cell_type": "code",
   "execution_count": 345,
   "id": "d4f3a74e",
   "metadata": {},
   "outputs": [],
   "source": [
    "import warnings\n",
    "warnings.filterwarnings(\"ignore\", category=FutureWarning)"
   ]
  },
  {
   "cell_type": "code",
   "execution_count": 125,
   "id": "e0533819",
   "metadata": {},
   "outputs": [],
   "source": [
    "loc_file = '/Users/fuwang/Documents/Columbia/Fall 2022/5243/Group Project 2/fall2022-project2-group11-ferra/data/LinkNYC_Locations.csv'\n",
    "usage_file = '/Users/fuwang/Documents/Columbia/Fall 2022/5243/Group Project 2/fall2022-project2-group11-ferra/data/LinkNYC_Usage_Statistics_Historical_Data.csv'"
   ]
  },
  {
   "cell_type": "code",
   "execution_count": 327,
   "id": "a307cb23",
   "metadata": {},
   "outputs": [],
   "source": [
    "df_loc = pd.read_csv(loc_file)\n",
    "df_usage = pd.read_csv(usage_file)"
   ]
  },
  {
   "cell_type": "code",
   "execution_count": 127,
   "id": "32fa987c",
   "metadata": {},
   "outputs": [
    {
     "data": {
      "text/plain": [
       "((1996, 21), (200, 9))"
      ]
     },
     "execution_count": 127,
     "metadata": {},
     "output_type": "execute_result"
    }
   ],
   "source": [
    "df_loc.shape,df_usage.shape"
   ]
  },
  {
   "cell_type": "markdown",
   "id": "8b4b08c1",
   "metadata": {},
   "source": [
    "## Thoughts: \n",
    "1. General overall look, Sanity Check: any missing values, outliers \n",
    "2. Convert datetime-like string to datetime, and usage time (format %H:%M:%S) to datetime so that we could analyze the trending of numeric value over the time period\n",
    "3. Removing features that are irrelevant to our analysis and also adding new features that will contribute to our furthur analysis "
   ]
  },
  {
   "cell_type": "code",
   "execution_count": 128,
   "id": "b5338aef",
   "metadata": {},
   "outputs": [
    {
     "data": {
      "text/plain": [
       "Index(['CB Link ID', 'Borough', 'Community Board', 'Council District',\n",
       "       'Latitude', 'Longitude', 'Project Status', 'Smallest PPT',\n",
       "       'Street Address', 'Postcode', 'Link Site ID',\n",
       "       'Link Smoke Tested and Activated (A)', 'Link Installation (A)',\n",
       "       'Neighborhood Tabulation Area (NTA)',\n",
       "       'Building Identification Number (BIN)', 'Borough-Block-Lot (BBL)',\n",
       "       'Census Tract (CT)', 'Cross Street 1', 'Cross Street 2', 'IxN Corner',\n",
       "       'Location'],\n",
       "      dtype='object')"
      ]
     },
     "execution_count": 128,
     "metadata": {},
     "output_type": "execute_result"
    }
   ],
   "source": [
    "df_loc.keys()"
   ]
  },
  {
   "cell_type": "code",
   "execution_count": 129,
   "id": "bf1c157c",
   "metadata": {},
   "outputs": [],
   "source": [
    "df_loc.rename(columns={'Link Smoke Tested and Activated (A)':'Active_date',\n",
    "                      'Link Installation (A)':'Install_date',\n",
    "                      'Neighborhood Tabulation Area (NTA)':'neighborhood',\n",
    "                      },inplace=True)"
   ]
  },
  {
   "cell_type": "code",
   "execution_count": 130,
   "id": "53a12deb",
   "metadata": {},
   "outputs": [],
   "source": [
    "# df_usage['Week'] = pd.to_datetime(df_usage.Week.str[7:])\n",
    "df_loc['Active_date'] = pd.to_datetime(df_loc['Active_date'])\n",
    "df_loc['Install_date'] = pd.to_datetime(df_loc['Install_date'])"
   ]
  },
  {
   "cell_type": "code",
   "execution_count": 131,
   "id": "dd75f06d",
   "metadata": {
    "scrolled": false
   },
   "outputs": [
    {
     "data": {
      "text/html": [
       "<div>\n",
       "<style scoped>\n",
       "    .dataframe tbody tr th:only-of-type {\n",
       "        vertical-align: middle;\n",
       "    }\n",
       "\n",
       "    .dataframe tbody tr th {\n",
       "        vertical-align: top;\n",
       "    }\n",
       "\n",
       "    .dataframe thead th {\n",
       "        text-align: right;\n",
       "    }\n",
       "</style>\n",
       "<table border=\"1\" class=\"dataframe\">\n",
       "  <thead>\n",
       "    <tr style=\"text-align: right;\">\n",
       "      <th></th>\n",
       "      <th>CB Link ID</th>\n",
       "      <th>Borough</th>\n",
       "      <th>Community Board</th>\n",
       "      <th>Council District</th>\n",
       "      <th>Latitude</th>\n",
       "      <th>Longitude</th>\n",
       "      <th>Project Status</th>\n",
       "      <th>Smallest PPT</th>\n",
       "      <th>Street Address</th>\n",
       "      <th>Postcode</th>\n",
       "      <th>...</th>\n",
       "      <th>Active_date</th>\n",
       "      <th>Install_date</th>\n",
       "      <th>neighborhood</th>\n",
       "      <th>Building Identification Number (BIN)</th>\n",
       "      <th>Borough-Block-Lot (BBL)</th>\n",
       "      <th>Census Tract (CT)</th>\n",
       "      <th>Cross Street 1</th>\n",
       "      <th>Cross Street 2</th>\n",
       "      <th>IxN Corner</th>\n",
       "      <th>Location</th>\n",
       "    </tr>\n",
       "  </thead>\n",
       "  <tbody>\n",
       "    <tr>\n",
       "      <th>0</th>\n",
       "      <td>LINK-000491</td>\n",
       "      <td>Manhattan</td>\n",
       "      <td>104</td>\n",
       "      <td>3</td>\n",
       "      <td>40.763051</td>\n",
       "      <td>-73.985830</td>\n",
       "      <td>Live</td>\n",
       "      <td>122605</td>\n",
       "      <td>308 WEST 51 STREET</td>\n",
       "      <td>10019</td>\n",
       "      <td>...</td>\n",
       "      <td>2016-10-26</td>\n",
       "      <td>2016-10-15</td>\n",
       "      <td>Clinton</td>\n",
       "      <td>1025211.0</td>\n",
       "      <td>1.010428e+09</td>\n",
       "      <td>1013300.0</td>\n",
       "      <td>8 AVENUE</td>\n",
       "      <td>9 AVENUE</td>\n",
       "      <td>NW</td>\n",
       "      <td>(40.76305136, -73.98583017)</td>\n",
       "    </tr>\n",
       "    <tr>\n",
       "      <th>1</th>\n",
       "      <td>LINK-012865</td>\n",
       "      <td>Manhattan</td>\n",
       "      <td>106</td>\n",
       "      <td>4</td>\n",
       "      <td>40.759234</td>\n",
       "      <td>-73.965504</td>\n",
       "      <td>Live</td>\n",
       "      <td>121773</td>\n",
       "      <td>1077 2 AVENUE</td>\n",
       "      <td>10022</td>\n",
       "      <td>...</td>\n",
       "      <td>2018-06-12</td>\n",
       "      <td>2018-04-07</td>\n",
       "      <td>Turtle Bay-East Midtown</td>\n",
       "      <td>1090233.0</td>\n",
       "      <td>1.013308e+09</td>\n",
       "      <td>1010800.0</td>\n",
       "      <td>EAST 57 STREET</td>\n",
       "      <td>EAST 56 STREET</td>\n",
       "      <td>SW</td>\n",
       "      <td>(40.75923366, -73.96550379)</td>\n",
       "    </tr>\n",
       "    <tr>\n",
       "      <th>2</th>\n",
       "      <td>LINK-001486</td>\n",
       "      <td>Manhattan</td>\n",
       "      <td>107</td>\n",
       "      <td>6</td>\n",
       "      <td>40.790235</td>\n",
       "      <td>-73.974793</td>\n",
       "      <td>Live</td>\n",
       "      <td>133633</td>\n",
       "      <td>2420 BROADWAY</td>\n",
       "      <td>10024</td>\n",
       "      <td>...</td>\n",
       "      <td>2017-10-25</td>\n",
       "      <td>2017-09-10</td>\n",
       "      <td>Upper West Side</td>\n",
       "      <td>1033308.0</td>\n",
       "      <td>1.012370e+09</td>\n",
       "      <td>1017500.0</td>\n",
       "      <td>WEST 89 STREET</td>\n",
       "      <td>WEST 90 STREET</td>\n",
       "      <td>NE</td>\n",
       "      <td>(40.790235, -73.974793)</td>\n",
       "    </tr>\n",
       "    <tr>\n",
       "      <th>3</th>\n",
       "      <td>NaN</td>\n",
       "      <td>Bronx</td>\n",
       "      <td>202</td>\n",
       "      <td>17</td>\n",
       "      <td>40.816958</td>\n",
       "      <td>-73.895714</td>\n",
       "      <td>Live</td>\n",
       "      <td>113121</td>\n",
       "      <td>809 SOUTHERN BOULEVARD</td>\n",
       "      <td>10459</td>\n",
       "      <td>...</td>\n",
       "      <td>2022-05-25</td>\n",
       "      <td>2021-11-11</td>\n",
       "      <td>Hunts Point</td>\n",
       "      <td>2005741.0</td>\n",
       "      <td>2.027210e+09</td>\n",
       "      <td>2008900.0</td>\n",
       "      <td>LONGWOOD AVENUE</td>\n",
       "      <td>INTERVALE AVENUE</td>\n",
       "      <td>MIDBLOCK</td>\n",
       "      <td>(40.81695812880762, -73.8957139698328)</td>\n",
       "    </tr>\n",
       "    <tr>\n",
       "      <th>4</th>\n",
       "      <td>LINK-000220</td>\n",
       "      <td>Manhattan</td>\n",
       "      <td>105</td>\n",
       "      <td>3</td>\n",
       "      <td>40.739336</td>\n",
       "      <td>-73.995264</td>\n",
       "      <td>Live</td>\n",
       "      <td>123137</td>\n",
       "      <td>592 6 AVENUE</td>\n",
       "      <td>10011</td>\n",
       "      <td>...</td>\n",
       "      <td>2018-04-04</td>\n",
       "      <td>2018-02-04</td>\n",
       "      <td>Hudson Yards-Chelsea-Flatiron-Union Square</td>\n",
       "      <td>1015407.0</td>\n",
       "      <td>1.008198e+09</td>\n",
       "      <td>1005400.0</td>\n",
       "      <td>WEST 18 STREET</td>\n",
       "      <td>WEST 17 STREET</td>\n",
       "      <td>NE</td>\n",
       "      <td>(40.73933558, -73.99526424)</td>\n",
       "    </tr>\n",
       "  </tbody>\n",
       "</table>\n",
       "<p>5 rows × 21 columns</p>\n",
       "</div>"
      ],
      "text/plain": [
       "    CB Link ID    Borough  Community Board  Council District   Latitude  \\\n",
       "0  LINK-000491  Manhattan              104                 3  40.763051   \n",
       "1  LINK-012865  Manhattan              106                 4  40.759234   \n",
       "2  LINK-001486  Manhattan              107                 6  40.790235   \n",
       "3          NaN      Bronx              202                17  40.816958   \n",
       "4  LINK-000220  Manhattan              105                 3  40.739336   \n",
       "\n",
       "   Longitude Project Status Smallest PPT          Street Address  Postcode  \\\n",
       "0 -73.985830           Live       122605      308 WEST 51 STREET     10019   \n",
       "1 -73.965504           Live       121773           1077 2 AVENUE     10022   \n",
       "2 -73.974793           Live       133633           2420 BROADWAY     10024   \n",
       "3 -73.895714           Live       113121  809 SOUTHERN BOULEVARD     10459   \n",
       "4 -73.995264           Live       123137            592 6 AVENUE     10011   \n",
       "\n",
       "   ... Active_date Install_date                                neighborhood  \\\n",
       "0  ...  2016-10-26   2016-10-15                                     Clinton   \n",
       "1  ...  2018-06-12   2018-04-07                     Turtle Bay-East Midtown   \n",
       "2  ...  2017-10-25   2017-09-10                             Upper West Side   \n",
       "3  ...  2022-05-25   2021-11-11                                 Hunts Point   \n",
       "4  ...  2018-04-04   2018-02-04  Hudson Yards-Chelsea-Flatiron-Union Square   \n",
       "\n",
       "  Building Identification Number (BIN)  Borough-Block-Lot (BBL)  \\\n",
       "0                            1025211.0             1.010428e+09   \n",
       "1                            1090233.0             1.013308e+09   \n",
       "2                            1033308.0             1.012370e+09   \n",
       "3                            2005741.0             2.027210e+09   \n",
       "4                            1015407.0             1.008198e+09   \n",
       "\n",
       "   Census Tract (CT)   Cross Street 1    Cross Street 2 IxN Corner  \\\n",
       "0          1013300.0         8 AVENUE          9 AVENUE         NW   \n",
       "1          1010800.0   EAST 57 STREET    EAST 56 STREET         SW   \n",
       "2          1017500.0   WEST 89 STREET    WEST 90 STREET         NE   \n",
       "3          2008900.0  LONGWOOD AVENUE  INTERVALE AVENUE   MIDBLOCK   \n",
       "4          1005400.0   WEST 18 STREET    WEST 17 STREET         NE   \n",
       "\n",
       "                                 Location  \n",
       "0             (40.76305136, -73.98583017)  \n",
       "1             (40.75923366, -73.96550379)  \n",
       "2                 (40.790235, -73.974793)  \n",
       "3  (40.81695812880762, -73.8957139698328)  \n",
       "4             (40.73933558, -73.99526424)  \n",
       "\n",
       "[5 rows x 21 columns]"
      ]
     },
     "execution_count": 131,
     "metadata": {},
     "output_type": "execute_result"
    }
   ],
   "source": [
    "df_loc.head()"
   ]
  },
  {
   "cell_type": "code",
   "execution_count": 132,
   "id": "048799cf",
   "metadata": {},
   "outputs": [
    {
     "name": "stdout",
     "output_type": "stream",
     "text": [
      "The type of this variable CB Link ID is  <class 'str'>\n",
      "The type of this variable Borough is  <class 'str'>\n",
      "The type of this variable Community Board is  <class 'numpy.int64'>\n",
      "The type of this variable Council District is  <class 'numpy.int64'>\n",
      "The type of this variable Latitude is  <class 'numpy.float64'>\n",
      "The type of this variable Longitude is  <class 'numpy.float64'>\n",
      "The type of this variable Project Status is  <class 'str'>\n",
      "The type of this variable Smallest PPT is  <class 'str'>\n",
      "The type of this variable Street Address is  <class 'str'>\n",
      "The type of this variable Postcode is  <class 'numpy.int64'>\n",
      "The type of this variable Link Site ID is  <class 'str'>\n",
      "The type of this variable Active_date is  <class 'pandas._libs.tslibs.timestamps.Timestamp'>\n",
      "The type of this variable Install_date is  <class 'pandas._libs.tslibs.timestamps.Timestamp'>\n",
      "The type of this variable neighborhood is  <class 'str'>\n",
      "The type of this variable Building Identification Number (BIN) is  <class 'numpy.float64'>\n",
      "The type of this variable Borough-Block-Lot (BBL) is  <class 'numpy.float64'>\n",
      "The type of this variable Census Tract (CT) is  <class 'numpy.float64'>\n",
      "The type of this variable Cross Street 1 is  <class 'str'>\n",
      "The type of this variable Cross Street 2 is  <class 'str'>\n",
      "The type of this variable IxN Corner is  <class 'str'>\n",
      "The type of this variable Location is  <class 'str'>\n"
     ]
    }
   ],
   "source": [
    "for item in df_loc.keys():\n",
    "    print('The type of this variable',item ,'is ', type(df_loc[item][0]))"
   ]
  },
  {
   "cell_type": "code",
   "execution_count": 57,
   "id": "d0386386",
   "metadata": {},
   "outputs": [
    {
     "data": {
      "text/html": [
       "<div>\n",
       "<style scoped>\n",
       "    .dataframe tbody tr th:only-of-type {\n",
       "        vertical-align: middle;\n",
       "    }\n",
       "\n",
       "    .dataframe tbody tr th {\n",
       "        vertical-align: top;\n",
       "    }\n",
       "\n",
       "    .dataframe thead th {\n",
       "        text-align: right;\n",
       "    }\n",
       "</style>\n",
       "<table border=\"1\" class=\"dataframe\">\n",
       "  <thead>\n",
       "    <tr style=\"text-align: right;\">\n",
       "      <th></th>\n",
       "      <th>Community Board</th>\n",
       "      <th>Council District</th>\n",
       "      <th>Latitude</th>\n",
       "      <th>Longitude</th>\n",
       "      <th>Postcode</th>\n",
       "      <th>Building Identification Number (BIN)</th>\n",
       "      <th>Borough-Block-Lot (BBL)</th>\n",
       "      <th>Census Tract (CT)</th>\n",
       "    </tr>\n",
       "  </thead>\n",
       "  <tbody>\n",
       "    <tr>\n",
       "      <th>count</th>\n",
       "      <td>1996.000000</td>\n",
       "      <td>1996.000000</td>\n",
       "      <td>1996.000000</td>\n",
       "      <td>1996.000000</td>\n",
       "      <td>1996.000000</td>\n",
       "      <td>1.979000e+03</td>\n",
       "      <td>1.995000e+03</td>\n",
       "      <td>1.966000e+03</td>\n",
       "    </tr>\n",
       "    <tr>\n",
       "      <th>mean</th>\n",
       "      <td>193.871743</td>\n",
       "      <td>13.842685</td>\n",
       "      <td>40.756897</td>\n",
       "      <td>-73.952227</td>\n",
       "      <td>10420.837675</td>\n",
       "      <td>1.937940e+06</td>\n",
       "      <td>1.897722e+09</td>\n",
       "      <td>1.851699e+06</td>\n",
       "    </tr>\n",
       "    <tr>\n",
       "      <th>std</th>\n",
       "      <td>120.603414</td>\n",
       "      <td>13.025685</td>\n",
       "      <td>0.055030</td>\n",
       "      <td>0.048712</td>\n",
       "      <td>547.546783</td>\n",
       "      <td>1.244887e+06</td>\n",
       "      <td>1.221008e+09</td>\n",
       "      <td>1.218037e+06</td>\n",
       "    </tr>\n",
       "    <tr>\n",
       "      <th>min</th>\n",
       "      <td>101.000000</td>\n",
       "      <td>1.000000</td>\n",
       "      <td>40.561755</td>\n",
       "      <td>-74.116075</td>\n",
       "      <td>10001.000000</td>\n",
       "      <td>1.000000e+06</td>\n",
       "      <td>1.000328e+09</td>\n",
       "      <td>3.030000e+02</td>\n",
       "    </tr>\n",
       "    <tr>\n",
       "      <th>25%</th>\n",
       "      <td>106.000000</td>\n",
       "      <td>4.000000</td>\n",
       "      <td>40.730568</td>\n",
       "      <td>-73.982566</td>\n",
       "      <td>10019.000000</td>\n",
       "      <td>1.034792e+06</td>\n",
       "      <td>1.010660e+09</td>\n",
       "      <td>1.010200e+06</td>\n",
       "    </tr>\n",
       "    <tr>\n",
       "      <th>50%</th>\n",
       "      <td>109.000000</td>\n",
       "      <td>7.000000</td>\n",
       "      <td>40.754708</td>\n",
       "      <td>-73.962891</td>\n",
       "      <td>10031.000000</td>\n",
       "      <td>1.076374e+06</td>\n",
       "      <td>1.019050e+09</td>\n",
       "      <td>1.019500e+06</td>\n",
       "    </tr>\n",
       "    <tr>\n",
       "      <th>75%</th>\n",
       "      <td>303.000000</td>\n",
       "      <td>25.000000</td>\n",
       "      <td>40.795602</td>\n",
       "      <td>-73.929248</td>\n",
       "      <td>11103.000000</td>\n",
       "      <td>3.040240e+06</td>\n",
       "      <td>3.012710e+09</td>\n",
       "      <td>3.015550e+06</td>\n",
       "    </tr>\n",
       "    <tr>\n",
       "      <th>max</th>\n",
       "      <td>503.000000</td>\n",
       "      <td>50.000000</td>\n",
       "      <td>40.875751</td>\n",
       "      <td>-73.755939</td>\n",
       "      <td>11435.000000</td>\n",
       "      <td>5.158060e+06</td>\n",
       "      <td>5.039830e+09</td>\n",
       "      <td>5.018100e+06</td>\n",
       "    </tr>\n",
       "  </tbody>\n",
       "</table>\n",
       "</div>"
      ],
      "text/plain": [
       "       Community Board  Council District     Latitude    Longitude  \\\n",
       "count      1996.000000       1996.000000  1996.000000  1996.000000   \n",
       "mean        193.871743         13.842685    40.756897   -73.952227   \n",
       "std         120.603414         13.025685     0.055030     0.048712   \n",
       "min         101.000000          1.000000    40.561755   -74.116075   \n",
       "25%         106.000000          4.000000    40.730568   -73.982566   \n",
       "50%         109.000000          7.000000    40.754708   -73.962891   \n",
       "75%         303.000000         25.000000    40.795602   -73.929248   \n",
       "max         503.000000         50.000000    40.875751   -73.755939   \n",
       "\n",
       "           Postcode  Building Identification Number (BIN)  \\\n",
       "count   1996.000000                          1.979000e+03   \n",
       "mean   10420.837675                          1.937940e+06   \n",
       "std      547.546783                          1.244887e+06   \n",
       "min    10001.000000                          1.000000e+06   \n",
       "25%    10019.000000                          1.034792e+06   \n",
       "50%    10031.000000                          1.076374e+06   \n",
       "75%    11103.000000                          3.040240e+06   \n",
       "max    11435.000000                          5.158060e+06   \n",
       "\n",
       "       Borough-Block-Lot (BBL)  Census Tract (CT)  \n",
       "count             1.995000e+03       1.966000e+03  \n",
       "mean              1.897722e+09       1.851699e+06  \n",
       "std               1.221008e+09       1.218037e+06  \n",
       "min               1.000328e+09       3.030000e+02  \n",
       "25%               1.010660e+09       1.010200e+06  \n",
       "50%               1.019050e+09       1.019500e+06  \n",
       "75%               3.012710e+09       3.015550e+06  \n",
       "max               5.039830e+09       5.018100e+06  "
      ]
     },
     "execution_count": 57,
     "metadata": {},
     "output_type": "execute_result"
    }
   ],
   "source": [
    "df_loc.describe()"
   ]
  },
  {
   "cell_type": "code",
   "execution_count": 59,
   "id": "4418b7bf",
   "metadata": {},
   "outputs": [
    {
     "data": {
      "text/html": [
       "<div>\n",
       "<style scoped>\n",
       "    .dataframe tbody tr th:only-of-type {\n",
       "        vertical-align: middle;\n",
       "    }\n",
       "\n",
       "    .dataframe tbody tr th {\n",
       "        vertical-align: top;\n",
       "    }\n",
       "\n",
       "    .dataframe thead th {\n",
       "        text-align: right;\n",
       "    }\n",
       "</style>\n",
       "<table border=\"1\" class=\"dataframe\">\n",
       "  <thead>\n",
       "    <tr style=\"text-align: right;\">\n",
       "      <th></th>\n",
       "      <th>CB Link ID</th>\n",
       "      <th>Borough</th>\n",
       "      <th>Community Board</th>\n",
       "      <th>Council District</th>\n",
       "      <th>Latitude</th>\n",
       "      <th>Longitude</th>\n",
       "      <th>Project Status</th>\n",
       "      <th>Smallest PPT</th>\n",
       "      <th>Street Address</th>\n",
       "      <th>Postcode</th>\n",
       "      <th>...</th>\n",
       "      <th>Active_date</th>\n",
       "      <th>Install_date</th>\n",
       "      <th>neighborhood</th>\n",
       "      <th>Building Identification Number (BIN)</th>\n",
       "      <th>Borough-Block-Lot (BBL)</th>\n",
       "      <th>Census Tract (CT)</th>\n",
       "      <th>Cross Street 1</th>\n",
       "      <th>Cross Street 2</th>\n",
       "      <th>IxN Corner</th>\n",
       "      <th>Location</th>\n",
       "    </tr>\n",
       "  </thead>\n",
       "  <tbody>\n",
       "  </tbody>\n",
       "</table>\n",
       "<p>0 rows × 21 columns</p>\n",
       "</div>"
      ],
      "text/plain": [
       "Empty DataFrame\n",
       "Columns: [CB Link ID, Borough, Community Board, Council District, Latitude, Longitude, Project Status, Smallest PPT, Street Address, Postcode, Link Site ID, Active_date, Install_date, neighborhood, Building Identification Number (BIN), Borough-Block-Lot (BBL), Census Tract (CT), Cross Street 1, Cross Street 2, IxN Corner, Location]\n",
       "Index: []\n",
       "\n",
       "[0 rows x 21 columns]"
      ]
     },
     "execution_count": 59,
     "metadata": {},
     "output_type": "execute_result"
    }
   ],
   "source": [
    "df_loc[df_loc.Active_date<df_loc.Install_date] # no outliers for install and activation date "
   ]
  },
  {
   "cell_type": "code",
   "execution_count": 253,
   "id": "3ae75135",
   "metadata": {},
   "outputs": [
    {
     "data": {
      "text/plain": [
       "CB Link ID                              123\n",
       "Link Smoke Tested and Activated (A)      51\n",
       "Census Tract (CT)                        30\n",
       "IxN Corner                               17\n",
       "Building Identification Number (BIN)     17\n",
       "Smallest PPT                              8\n",
       "Cross Street 2                            4\n",
       "Cross Street 1                            4\n",
       "Borough-Block-Lot (BBL)                   1\n",
       "Neighborhood Tabulation Area (NTA)        1\n",
       "Link Installation (A)                     0\n",
       "Link Site ID                              0\n",
       "Borough                                   0\n",
       "Postcode                                  0\n",
       "Street Address                            0\n",
       "Project Status                            0\n",
       "Longitude                                 0\n",
       "Latitude                                  0\n",
       "Council District                          0\n",
       "Community Board                           0\n",
       "Location                                  0\n",
       "dtype: int64"
      ]
     },
     "execution_count": 253,
     "metadata": {},
     "output_type": "execute_result"
    }
   ],
   "source": [
    "df_loc.isnull().sum().sort_values(ascending=False)\n",
    "# There are some missing values, and we will take a deeper look in a bit later "
   ]
  },
  {
   "cell_type": "code",
   "execution_count": 255,
   "id": "e0f94143",
   "metadata": {},
   "outputs": [
    {
     "name": "stdout",
     "output_type": "stream",
     "text": [
      "The number of duplicated row is 0\n"
     ]
    }
   ],
   "source": [
    "print('The number of duplicated row is', df_loc.duplicated().sum())"
   ]
  },
  {
   "cell_type": "code",
   "execution_count": null,
   "id": "d7ff9967",
   "metadata": {},
   "outputs": [],
   "source": []
  },
  {
   "cell_type": "code",
   "execution_count": null,
   "id": "5b1b0ac4",
   "metadata": {},
   "outputs": [],
   "source": []
  },
  {
   "cell_type": "markdown",
   "id": "18ceb5ad",
   "metadata": {},
   "source": [
    "# Cleaning for df_usage\n"
   ]
  },
  {
   "cell_type": "code",
   "execution_count": 328,
   "id": "9b10073d",
   "metadata": {
    "scrolled": true
   },
   "outputs": [
    {
     "data": {
      "text/plain": [
       "Average Session Duration                         1\n",
       "Week                                             0\n",
       "Sessions Per Week                                0\n",
       "Cumulative Sessions To Date                      0\n",
       "Bandwidth Utilization Per Week (TB)              0\n",
       "Cumulative Bandwidth Utilization To Date (TB)    0\n",
       "New Subscribers Per Week                         0\n",
       "Total Subscribers Per Week                       0\n",
       "Cumulative Subscribers To Date                   0\n",
       "dtype: int64"
      ]
     },
     "execution_count": 328,
     "metadata": {},
     "output_type": "execute_result"
    }
   ],
   "source": [
    "df_usage.isnull().sum().sort_values(ascending=False)"
   ]
  },
  {
   "cell_type": "markdown",
   "id": "15755ffc",
   "metadata": {},
   "source": [
    "Mostly the problem is about Average Usage towards each session, and later we might \n",
    "convert the Average Session Duration in to datetime and add a new feature: total usage second,\n",
    "and then convert it back to numeric values so that will can fill na by mean or mode and etc \n",
    " "
   ]
  },
  {
   "cell_type": "code",
   "execution_count": 329,
   "id": "c028f6d8",
   "metadata": {},
   "outputs": [
    {
     "name": "stdout",
     "output_type": "stream",
     "text": [
      "The number of duplicated row is 0\n"
     ]
    }
   ],
   "source": [
    "print('The number of duplicated row is', df_usage.duplicated().sum())"
   ]
  },
  {
   "cell_type": "code",
   "execution_count": 330,
   "id": "0c3f34ca",
   "metadata": {},
   "outputs": [
    {
     "data": {
      "text/html": [
       "<div>\n",
       "<style scoped>\n",
       "    .dataframe tbody tr th:only-of-type {\n",
       "        vertical-align: middle;\n",
       "    }\n",
       "\n",
       "    .dataframe tbody tr th {\n",
       "        vertical-align: top;\n",
       "    }\n",
       "\n",
       "    .dataframe thead th {\n",
       "        text-align: right;\n",
       "    }\n",
       "</style>\n",
       "<table border=\"1\" class=\"dataframe\">\n",
       "  <thead>\n",
       "    <tr style=\"text-align: right;\">\n",
       "      <th></th>\n",
       "      <th>Week</th>\n",
       "      <th>Sessions Per Week</th>\n",
       "      <th>Cumulative Sessions To Date</th>\n",
       "      <th>Bandwidth Utilization Per Week (TB)</th>\n",
       "      <th>Cumulative Bandwidth Utilization To Date (TB)</th>\n",
       "      <th>Average Session Duration</th>\n",
       "      <th>New Subscribers Per Week</th>\n",
       "      <th>Total Subscribers Per Week</th>\n",
       "      <th>Cumulative Subscribers To Date</th>\n",
       "    </tr>\n",
       "  </thead>\n",
       "  <tbody>\n",
       "    <tr>\n",
       "      <th>40</th>\n",
       "      <td>Week of 12/5/2016</td>\n",
       "      <td>3918249</td>\n",
       "      <td>61668967</td>\n",
       "      <td>27.75</td>\n",
       "      <td>468.39</td>\n",
       "      <td>NaN</td>\n",
       "      <td>24861</td>\n",
       "      <td>261267</td>\n",
       "      <td>895785</td>\n",
       "    </tr>\n",
       "  </tbody>\n",
       "</table>\n",
       "</div>"
      ],
      "text/plain": [
       "                 Week  Sessions Per Week  Cumulative Sessions To Date  \\\n",
       "40  Week of 12/5/2016            3918249                     61668967   \n",
       "\n",
       "    Bandwidth Utilization Per Week (TB)  \\\n",
       "40                                27.75   \n",
       "\n",
       "    Cumulative Bandwidth Utilization To Date (TB) Average Session Duration  \\\n",
       "40                                         468.39                      NaN   \n",
       "\n",
       "    New Subscribers Per Week  Total Subscribers Per Week  \\\n",
       "40                     24861                      261267   \n",
       "\n",
       "    Cumulative Subscribers To Date  \n",
       "40                          895785  "
      ]
     },
     "execution_count": 330,
     "metadata": {},
     "output_type": "execute_result"
    }
   ],
   "source": [
    "df_usage[df_usage['Average Session Duration'].isna()] \n",
    "#Since this value is NaN, later we need to pay attention when converting it to datetime "
   ]
  },
  {
   "cell_type": "code",
   "execution_count": 331,
   "id": "82513929",
   "metadata": {},
   "outputs": [],
   "source": [
    "df_usage['Week'] = pd.to_datetime(df_usage.Week.str[7:])"
   ]
  },
  {
   "cell_type": "code",
   "execution_count": 332,
   "id": "47bf9479",
   "metadata": {},
   "outputs": [],
   "source": [
    "df_usage['Usage_time'] = pd.to_timedelta(df_usage['Average Session Duration']).dt.total_seconds()"
   ]
  },
  {
   "cell_type": "code",
   "execution_count": 333,
   "id": "76a9a0ab",
   "metadata": {},
   "outputs": [],
   "source": [
    "df_usage['Average Session Duration'] = df_usage['Average Session Duration'].str[2:-4]"
   ]
  },
  {
   "cell_type": "code",
   "execution_count": 334,
   "id": "d35ed7c3",
   "metadata": {},
   "outputs": [],
   "source": [
    "df_usage['Average Session Duration']=pd.to_datetime(df_usage['Average Session Duration'],\n",
    "                                                    errors='coerce',format='%H:%M:%S').dt.time"
   ]
  },
  {
   "cell_type": "code",
   "execution_count": 335,
   "id": "6c1dbf49",
   "metadata": {},
   "outputs": [
    {
     "data": {
      "text/html": [
       "<div>\n",
       "<style scoped>\n",
       "    .dataframe tbody tr th:only-of-type {\n",
       "        vertical-align: middle;\n",
       "    }\n",
       "\n",
       "    .dataframe tbody tr th {\n",
       "        vertical-align: top;\n",
       "    }\n",
       "\n",
       "    .dataframe thead th {\n",
       "        text-align: right;\n",
       "    }\n",
       "</style>\n",
       "<table border=\"1\" class=\"dataframe\">\n",
       "  <thead>\n",
       "    <tr style=\"text-align: right;\">\n",
       "      <th></th>\n",
       "      <th>Week</th>\n",
       "      <th>Sessions Per Week</th>\n",
       "      <th>Cumulative Sessions To Date</th>\n",
       "      <th>Bandwidth Utilization Per Week (TB)</th>\n",
       "      <th>Cumulative Bandwidth Utilization To Date (TB)</th>\n",
       "      <th>Average Session Duration</th>\n",
       "      <th>New Subscribers Per Week</th>\n",
       "      <th>Total Subscribers Per Week</th>\n",
       "      <th>Cumulative Subscribers To Date</th>\n",
       "      <th>Usage_time</th>\n",
       "    </tr>\n",
       "  </thead>\n",
       "  <tbody>\n",
       "    <tr>\n",
       "      <th>0</th>\n",
       "      <td>2016-02-29</td>\n",
       "      <td>31523</td>\n",
       "      <td>161899</td>\n",
       "      <td>0.418</td>\n",
       "      <td>1.73</td>\n",
       "      <td>00:03:01</td>\n",
       "      <td>1022</td>\n",
       "      <td>2391</td>\n",
       "      <td>6116</td>\n",
       "      <td>181.0</td>\n",
       "    </tr>\n",
       "    <tr>\n",
       "      <th>1</th>\n",
       "      <td>2016-03-07</td>\n",
       "      <td>54896</td>\n",
       "      <td>216795</td>\n",
       "      <td>0.635</td>\n",
       "      <td>1.84</td>\n",
       "      <td>00:02:47</td>\n",
       "      <td>2216</td>\n",
       "      <td>4041</td>\n",
       "      <td>8357</td>\n",
       "      <td>167.0</td>\n",
       "    </tr>\n",
       "    <tr>\n",
       "      <th>2</th>\n",
       "      <td>2016-03-14</td>\n",
       "      <td>61217</td>\n",
       "      <td>285012</td>\n",
       "      <td>0.602</td>\n",
       "      <td>2.32</td>\n",
       "      <td>00:02:49</td>\n",
       "      <td>2587</td>\n",
       "      <td>4983</td>\n",
       "      <td>10984</td>\n",
       "      <td>169.0</td>\n",
       "    </tr>\n",
       "    <tr>\n",
       "      <th>3</th>\n",
       "      <td>2016-03-21</td>\n",
       "      <td>103613</td>\n",
       "      <td>381766</td>\n",
       "      <td>1.103</td>\n",
       "      <td>3.21</td>\n",
       "      <td>00:03:09</td>\n",
       "      <td>5223</td>\n",
       "      <td>8322</td>\n",
       "      <td>15920</td>\n",
       "      <td>189.0</td>\n",
       "    </tr>\n",
       "    <tr>\n",
       "      <th>4</th>\n",
       "      <td>2016-03-28</td>\n",
       "      <td>158420</td>\n",
       "      <td>540186</td>\n",
       "      <td>1.315</td>\n",
       "      <td>5.28</td>\n",
       "      <td>00:02:53</td>\n",
       "      <td>6235</td>\n",
       "      <td>10961</td>\n",
       "      <td>22232</td>\n",
       "      <td>173.0</td>\n",
       "    </tr>\n",
       "  </tbody>\n",
       "</table>\n",
       "</div>"
      ],
      "text/plain": [
       "        Week  Sessions Per Week  Cumulative Sessions To Date  \\\n",
       "0 2016-02-29              31523                       161899   \n",
       "1 2016-03-07              54896                       216795   \n",
       "2 2016-03-14              61217                       285012   \n",
       "3 2016-03-21             103613                       381766   \n",
       "4 2016-03-28             158420                       540186   \n",
       "\n",
       "   Bandwidth Utilization Per Week (TB)  \\\n",
       "0                                0.418   \n",
       "1                                0.635   \n",
       "2                                0.602   \n",
       "3                                1.103   \n",
       "4                                1.315   \n",
       "\n",
       "   Cumulative Bandwidth Utilization To Date (TB) Average Session Duration  \\\n",
       "0                                           1.73                 00:03:01   \n",
       "1                                           1.84                 00:02:47   \n",
       "2                                           2.32                 00:02:49   \n",
       "3                                           3.21                 00:03:09   \n",
       "4                                           5.28                 00:02:53   \n",
       "\n",
       "   New Subscribers Per Week  Total Subscribers Per Week  \\\n",
       "0                      1022                        2391   \n",
       "1                      2216                        4041   \n",
       "2                      2587                        4983   \n",
       "3                      5223                        8322   \n",
       "4                      6235                       10961   \n",
       "\n",
       "   Cumulative Subscribers To Date  Usage_time  \n",
       "0                            6116       181.0  \n",
       "1                            8357       167.0  \n",
       "2                           10984       169.0  \n",
       "3                           15920       189.0  \n",
       "4                           22232       173.0  "
      ]
     },
     "execution_count": 335,
     "metadata": {},
     "output_type": "execute_result"
    }
   ],
   "source": [
    "df_usage.head()"
   ]
  },
  {
   "cell_type": "code",
   "execution_count": 336,
   "id": "7a98fa03",
   "metadata": {},
   "outputs": [
    {
     "data": {
      "text/html": [
       "<div>\n",
       "<style scoped>\n",
       "    .dataframe tbody tr th:only-of-type {\n",
       "        vertical-align: middle;\n",
       "    }\n",
       "\n",
       "    .dataframe tbody tr th {\n",
       "        vertical-align: top;\n",
       "    }\n",
       "\n",
       "    .dataframe thead th {\n",
       "        text-align: right;\n",
       "    }\n",
       "</style>\n",
       "<table border=\"1\" class=\"dataframe\">\n",
       "  <thead>\n",
       "    <tr style=\"text-align: right;\">\n",
       "      <th></th>\n",
       "      <th>Week</th>\n",
       "      <th>Sessions Per Week</th>\n",
       "      <th>Cumulative Sessions To Date</th>\n",
       "      <th>Bandwidth Utilization Per Week (TB)</th>\n",
       "      <th>Cumulative Bandwidth Utilization To Date (TB)</th>\n",
       "      <th>Average Session Duration</th>\n",
       "      <th>New Subscribers Per Week</th>\n",
       "      <th>Total Subscribers Per Week</th>\n",
       "      <th>Cumulative Subscribers To Date</th>\n",
       "      <th>Usage_time</th>\n",
       "    </tr>\n",
       "  </thead>\n",
       "  <tbody>\n",
       "    <tr>\n",
       "      <th>195</th>\n",
       "      <td>2019-12-02</td>\n",
       "      <td>14892304</td>\n",
       "      <td>2196520683</td>\n",
       "      <td>103.43</td>\n",
       "      <td>13888.96</td>\n",
       "      <td>00:04:57</td>\n",
       "      <td>38120</td>\n",
       "      <td>701568</td>\n",
       "      <td>8237849</td>\n",
       "      <td>297.0</td>\n",
       "    </tr>\n",
       "    <tr>\n",
       "      <th>196</th>\n",
       "      <td>2019-12-09</td>\n",
       "      <td>14339704</td>\n",
       "      <td>2210860387</td>\n",
       "      <td>108.07</td>\n",
       "      <td>14006.77</td>\n",
       "      <td>00:04:39</td>\n",
       "      <td>36784</td>\n",
       "      <td>683341</td>\n",
       "      <td>8274633</td>\n",
       "      <td>279.0</td>\n",
       "    </tr>\n",
       "    <tr>\n",
       "      <th>197</th>\n",
       "      <td>2019-12-16</td>\n",
       "      <td>14090776</td>\n",
       "      <td>2224951163</td>\n",
       "      <td>110.31</td>\n",
       "      <td>14126.62</td>\n",
       "      <td>00:05:03</td>\n",
       "      <td>44967</td>\n",
       "      <td>681315</td>\n",
       "      <td>8319600</td>\n",
       "      <td>303.0</td>\n",
       "    </tr>\n",
       "    <tr>\n",
       "      <th>198</th>\n",
       "      <td>2019-12-23</td>\n",
       "      <td>12960131</td>\n",
       "      <td>2237911294</td>\n",
       "      <td>102.85</td>\n",
       "      <td>14240.25</td>\n",
       "      <td>00:05:14</td>\n",
       "      <td>76666</td>\n",
       "      <td>673375</td>\n",
       "      <td>8396266</td>\n",
       "      <td>314.0</td>\n",
       "    </tr>\n",
       "    <tr>\n",
       "      <th>199</th>\n",
       "      <td>2019-12-30</td>\n",
       "      <td>13303758</td>\n",
       "      <td>2251215052</td>\n",
       "      <td>102.88</td>\n",
       "      <td>14353.83</td>\n",
       "      <td>00:05:14</td>\n",
       "      <td>65573</td>\n",
       "      <td>676634</td>\n",
       "      <td>8461839</td>\n",
       "      <td>314.0</td>\n",
       "    </tr>\n",
       "  </tbody>\n",
       "</table>\n",
       "</div>"
      ],
      "text/plain": [
       "          Week  Sessions Per Week  Cumulative Sessions To Date  \\\n",
       "195 2019-12-02           14892304                   2196520683   \n",
       "196 2019-12-09           14339704                   2210860387   \n",
       "197 2019-12-16           14090776                   2224951163   \n",
       "198 2019-12-23           12960131                   2237911294   \n",
       "199 2019-12-30           13303758                   2251215052   \n",
       "\n",
       "     Bandwidth Utilization Per Week (TB)  \\\n",
       "195                               103.43   \n",
       "196                               108.07   \n",
       "197                               110.31   \n",
       "198                               102.85   \n",
       "199                               102.88   \n",
       "\n",
       "     Cumulative Bandwidth Utilization To Date (TB) Average Session Duration  \\\n",
       "195                                       13888.96                 00:04:57   \n",
       "196                                       14006.77                 00:04:39   \n",
       "197                                       14126.62                 00:05:03   \n",
       "198                                       14240.25                 00:05:14   \n",
       "199                                       14353.83                 00:05:14   \n",
       "\n",
       "     New Subscribers Per Week  Total Subscribers Per Week  \\\n",
       "195                     38120                      701568   \n",
       "196                     36784                      683341   \n",
       "197                     44967                      681315   \n",
       "198                     76666                      673375   \n",
       "199                     65573                      676634   \n",
       "\n",
       "     Cumulative Subscribers To Date  Usage_time  \n",
       "195                         8237849       297.0  \n",
       "196                         8274633       279.0  \n",
       "197                         8319600       303.0  \n",
       "198                         8396266       314.0  \n",
       "199                         8461839       314.0  "
      ]
     },
     "execution_count": 336,
     "metadata": {},
     "output_type": "execute_result"
    }
   ],
   "source": [
    "df_usage.tail()"
   ]
  },
  {
   "cell_type": "code",
   "execution_count": 337,
   "id": "e7fe94d3",
   "metadata": {},
   "outputs": [
    {
     "data": {
      "text/plain": [
       "Average Session Duration                         3\n",
       "Usage_time                                       1\n",
       "Week                                             0\n",
       "Sessions Per Week                                0\n",
       "Cumulative Sessions To Date                      0\n",
       "Bandwidth Utilization Per Week (TB)              0\n",
       "Cumulative Bandwidth Utilization To Date (TB)    0\n",
       "New Subscribers Per Week                         0\n",
       "Total Subscribers Per Week                       0\n",
       "Cumulative Subscribers To Date                   0\n",
       "dtype: int64"
      ]
     },
     "execution_count": 337,
     "metadata": {},
     "output_type": "execute_result"
    }
   ],
   "source": [
    "df_usage.isnull().sum().sort_values(ascending=False)\n",
    "# This means we have some problematic Average Session Duration when we tried to convert \n",
    "# However, since we won't gonna use it directly and so we only need to fill  the na value  for Usage_time "
   ]
  },
  {
   "cell_type": "code",
   "execution_count": 338,
   "id": "de7d2ab3",
   "metadata": {
    "scrolled": false
   },
   "outputs": [
    {
     "data": {
      "text/html": [
       "<div>\n",
       "<style scoped>\n",
       "    .dataframe tbody tr th:only-of-type {\n",
       "        vertical-align: middle;\n",
       "    }\n",
       "\n",
       "    .dataframe tbody tr th {\n",
       "        vertical-align: top;\n",
       "    }\n",
       "\n",
       "    .dataframe thead th {\n",
       "        text-align: right;\n",
       "    }\n",
       "</style>\n",
       "<table border=\"1\" class=\"dataframe\">\n",
       "  <thead>\n",
       "    <tr style=\"text-align: right;\">\n",
       "      <th></th>\n",
       "      <th>Week</th>\n",
       "      <th>Sessions Per Week</th>\n",
       "      <th>Cumulative Sessions To Date</th>\n",
       "      <th>Bandwidth Utilization Per Week (TB)</th>\n",
       "      <th>Cumulative Bandwidth Utilization To Date (TB)</th>\n",
       "      <th>Average Session Duration</th>\n",
       "      <th>New Subscribers Per Week</th>\n",
       "      <th>Total Subscribers Per Week</th>\n",
       "      <th>Cumulative Subscribers To Date</th>\n",
       "      <th>Usage_time</th>\n",
       "    </tr>\n",
       "  </thead>\n",
       "  <tbody>\n",
       "    <tr>\n",
       "      <th>40</th>\n",
       "      <td>2016-12-05</td>\n",
       "      <td>3918249</td>\n",
       "      <td>61668967</td>\n",
       "      <td>27.75</td>\n",
       "      <td>468.39</td>\n",
       "      <td>NaT</td>\n",
       "      <td>24861</td>\n",
       "      <td>261267</td>\n",
       "      <td>895785</td>\n",
       "      <td>NaN</td>\n",
       "    </tr>\n",
       "  </tbody>\n",
       "</table>\n",
       "</div>"
      ],
      "text/plain": [
       "         Week  Sessions Per Week  Cumulative Sessions To Date  \\\n",
       "40 2016-12-05            3918249                     61668967   \n",
       "\n",
       "    Bandwidth Utilization Per Week (TB)  \\\n",
       "40                                27.75   \n",
       "\n",
       "    Cumulative Bandwidth Utilization To Date (TB) Average Session Duration  \\\n",
       "40                                         468.39                      NaT   \n",
       "\n",
       "    New Subscribers Per Week  Total Subscribers Per Week  \\\n",
       "40                     24861                      261267   \n",
       "\n",
       "    Cumulative Subscribers To Date  Usage_time  \n",
       "40                          895785         NaN  "
      ]
     },
     "execution_count": 338,
     "metadata": {},
     "output_type": "execute_result"
    }
   ],
   "source": [
    "df_usage[df_usage['Usage_time'].isna()] "
   ]
  },
  {
   "cell_type": "code",
   "execution_count": 339,
   "id": "02ded75f",
   "metadata": {},
   "outputs": [
    {
     "data": {
      "text/plain": [
       "225.0"
      ]
     },
     "execution_count": 339,
     "metadata": {},
     "output_type": "execute_result"
    }
   ],
   "source": [
    "df_usage['Usage_time'].mode()[0]"
   ]
  },
  {
   "cell_type": "code",
   "execution_count": 346,
   "id": "f78ce651",
   "metadata": {},
   "outputs": [
    {
     "name": "stderr",
     "output_type": "stream",
     "text": [
      "/var/folders/30/9c87sl6d2zzgttgpc8zzymlm0000gn/T/ipykernel_35839/2328566047.py:1: SettingWithCopyWarning: \n",
      "A value is trying to be set on a copy of a slice from a DataFrame\n",
      "\n",
      "See the caveats in the documentation: https://pandas.pydata.org/pandas-docs/stable/user_guide/indexing.html#returning-a-view-versus-a-copy\n",
      "  df_usage['Usage_time'][40] = df_usage['Usage_time'].mode()[0]\n"
     ]
    }
   ],
   "source": [
    "df_usage['Usage_time'][40] = df_usage['Usage_time'].mode()[0]"
   ]
  },
  {
   "cell_type": "code",
   "execution_count": 348,
   "id": "45baaa8c",
   "metadata": {},
   "outputs": [
    {
     "data": {
      "text/plain": [
       "Week                                             2016-12-05 00:00:00\n",
       "Sessions Per Week                                            3918249\n",
       "Cumulative Sessions To Date                                 61668967\n",
       "Bandwidth Utilization Per Week (TB)                            27.75\n",
       "Cumulative Bandwidth Utilization To Date (TB)                 468.39\n",
       "Average Session Duration                                         NaT\n",
       "New Subscribers Per Week                                       24861\n",
       "Total Subscribers Per Week                                    261267\n",
       "Cumulative Subscribers To Date                                895785\n",
       "Usage_time                                                     225.0\n",
       "Name: 40, dtype: object"
      ]
     },
     "execution_count": 348,
     "metadata": {},
     "output_type": "execute_result"
    }
   ],
   "source": [
    "df_usage.iloc[40] # All set "
   ]
  },
  {
   "cell_type": "markdown",
   "id": "05305310",
   "metadata": {},
   "source": [
    "**_Findings_:**\n",
    "1. Sessions Per Week and Cumulative Sessions to Date aren't strictly adding up, for example, do the math in row 1 and row 2. In fact mamy numeric values and its corresponding cumulative sum up are not strictly correlated. \n",
    "2. The Week part contains the week from 2016 to 2019 "
   ]
  },
  {
   "cell_type": "code",
   "execution_count": 349,
   "id": "4fa0bcfb",
   "metadata": {},
   "outputs": [
    {
     "name": "stdout",
     "output_type": "stream",
     "text": [
      "The type of this variable Week is  <class 'pandas._libs.tslibs.timestamps.Timestamp'>\n",
      "The type of this variable Sessions Per Week is  <class 'numpy.int64'>\n",
      "The type of this variable Cumulative Sessions To Date is  <class 'numpy.int64'>\n",
      "The type of this variable Bandwidth Utilization Per Week (TB) is  <class 'numpy.float64'>\n",
      "The type of this variable Cumulative Bandwidth Utilization To Date (TB) is  <class 'numpy.float64'>\n",
      "The type of this variable Average Session Duration is  <class 'datetime.time'>\n",
      "The type of this variable New Subscribers Per Week is  <class 'numpy.int64'>\n",
      "The type of this variable Total Subscribers Per Week is  <class 'numpy.int64'>\n",
      "The type of this variable Cumulative Subscribers To Date is  <class 'numpy.int64'>\n",
      "The type of this variable Usage_time is  <class 'numpy.float64'>\n"
     ]
    }
   ],
   "source": [
    "for item in df_usage.keys():\n",
    "    print('The type of this variable',item ,'is ', type(df_usage[item][0]))"
   ]
  },
  {
   "cell_type": "code",
   "execution_count": 350,
   "id": "2b54782a",
   "metadata": {},
   "outputs": [
    {
     "data": {
      "text/plain": [
       "195   2019-12-02\n",
       "196   2019-12-09\n",
       "197   2019-12-16\n",
       "198   2019-12-23\n",
       "199   2019-12-30\n",
       "Name: Week, dtype: datetime64[ns]"
      ]
     },
     "execution_count": 350,
     "metadata": {},
     "output_type": "execute_result"
    }
   ],
   "source": [
    "df_usage.Week.tail()"
   ]
  },
  {
   "cell_type": "code",
   "execution_count": 351,
   "id": "6be240bf",
   "metadata": {},
   "outputs": [
    {
     "data": {
      "text/html": [
       "<div>\n",
       "<style scoped>\n",
       "    .dataframe tbody tr th:only-of-type {\n",
       "        vertical-align: middle;\n",
       "    }\n",
       "\n",
       "    .dataframe tbody tr th {\n",
       "        vertical-align: top;\n",
       "    }\n",
       "\n",
       "    .dataframe thead th {\n",
       "        text-align: right;\n",
       "    }\n",
       "</style>\n",
       "<table border=\"1\" class=\"dataframe\">\n",
       "  <thead>\n",
       "    <tr style=\"text-align: right;\">\n",
       "      <th></th>\n",
       "      <th>Sessions Per Week</th>\n",
       "      <th>Cumulative Sessions To Date</th>\n",
       "      <th>Bandwidth Utilization Per Week (TB)</th>\n",
       "      <th>Cumulative Bandwidth Utilization To Date (TB)</th>\n",
       "      <th>New Subscribers Per Week</th>\n",
       "      <th>Total Subscribers Per Week</th>\n",
       "      <th>Cumulative Subscribers To Date</th>\n",
       "      <th>Usage_time</th>\n",
       "    </tr>\n",
       "  </thead>\n",
       "  <tbody>\n",
       "    <tr>\n",
       "      <th>count</th>\n",
       "      <td>2.000000e+02</td>\n",
       "      <td>2.000000e+02</td>\n",
       "      <td>200.000000</td>\n",
       "      <td>200.000000</td>\n",
       "      <td>200.000000</td>\n",
       "      <td>200.000000</td>\n",
       "      <td>2.000000e+02</td>\n",
       "      <td>200.000000</td>\n",
       "    </tr>\n",
       "    <tr>\n",
       "      <th>mean</th>\n",
       "      <td>1.131229e+07</td>\n",
       "      <td>8.166914e+08</td>\n",
       "      <td>64.106715</td>\n",
       "      <td>5093.513450</td>\n",
       "      <td>41742.705000</td>\n",
       "      <td>515167.265000</td>\n",
       "      <td>3.634425e+06</td>\n",
       "      <td>250.900000</td>\n",
       "    </tr>\n",
       "    <tr>\n",
       "      <th>std</th>\n",
       "      <td>6.507911e+06</td>\n",
       "      <td>7.420614e+08</td>\n",
       "      <td>34.926714</td>\n",
       "      <td>4469.401759</td>\n",
       "      <td>16011.055793</td>\n",
       "      <td>247770.916195</td>\n",
       "      <td>2.585772e+06</td>\n",
       "      <td>51.482446</td>\n",
       "    </tr>\n",
       "    <tr>\n",
       "      <th>min</th>\n",
       "      <td>3.152300e+04</td>\n",
       "      <td>1.618990e+05</td>\n",
       "      <td>0.418000</td>\n",
       "      <td>1.730000</td>\n",
       "      <td>1022.000000</td>\n",
       "      <td>2391.000000</td>\n",
       "      <td>6.116000e+03</td>\n",
       "      <td>161.000000</td>\n",
       "    </tr>\n",
       "    <tr>\n",
       "      <th>25%</th>\n",
       "      <td>4.974461e+06</td>\n",
       "      <td>1.032306e+08</td>\n",
       "      <td>32.600000</td>\n",
       "      <td>778.315000</td>\n",
       "      <td>30486.000000</td>\n",
       "      <td>316446.000000</td>\n",
       "      <td>1.186680e+06</td>\n",
       "      <td>225.000000</td>\n",
       "    </tr>\n",
       "    <tr>\n",
       "      <th>50%</th>\n",
       "      <td>1.403682e+07</td>\n",
       "      <td>5.998632e+08</td>\n",
       "      <td>69.680000</td>\n",
       "      <td>4102.975000</td>\n",
       "      <td>43357.000000</td>\n",
       "      <td>636279.500000</td>\n",
       "      <td>3.409909e+06</td>\n",
       "      <td>239.000000</td>\n",
       "    </tr>\n",
       "    <tr>\n",
       "      <th>75%</th>\n",
       "      <td>1.598653e+07</td>\n",
       "      <td>1.484036e+09</td>\n",
       "      <td>91.845000</td>\n",
       "      <td>8720.747500</td>\n",
       "      <td>54745.750000</td>\n",
       "      <td>707542.250000</td>\n",
       "      <td>5.869277e+06</td>\n",
       "      <td>277.000000</td>\n",
       "    </tr>\n",
       "    <tr>\n",
       "      <th>max</th>\n",
       "      <td>2.194392e+07</td>\n",
       "      <td>2.251215e+09</td>\n",
       "      <td>133.240000</td>\n",
       "      <td>14353.830000</td>\n",
       "      <td>76666.000000</td>\n",
       "      <td>767755.000000</td>\n",
       "      <td>8.461839e+06</td>\n",
       "      <td>489.000000</td>\n",
       "    </tr>\n",
       "  </tbody>\n",
       "</table>\n",
       "</div>"
      ],
      "text/plain": [
       "       Sessions Per Week  Cumulative Sessions To Date  \\\n",
       "count       2.000000e+02                 2.000000e+02   \n",
       "mean        1.131229e+07                 8.166914e+08   \n",
       "std         6.507911e+06                 7.420614e+08   \n",
       "min         3.152300e+04                 1.618990e+05   \n",
       "25%         4.974461e+06                 1.032306e+08   \n",
       "50%         1.403682e+07                 5.998632e+08   \n",
       "75%         1.598653e+07                 1.484036e+09   \n",
       "max         2.194392e+07                 2.251215e+09   \n",
       "\n",
       "       Bandwidth Utilization Per Week (TB)  \\\n",
       "count                           200.000000   \n",
       "mean                             64.106715   \n",
       "std                              34.926714   \n",
       "min                               0.418000   \n",
       "25%                              32.600000   \n",
       "50%                              69.680000   \n",
       "75%                              91.845000   \n",
       "max                             133.240000   \n",
       "\n",
       "       Cumulative Bandwidth Utilization To Date (TB)  \\\n",
       "count                                     200.000000   \n",
       "mean                                     5093.513450   \n",
       "std                                      4469.401759   \n",
       "min                                         1.730000   \n",
       "25%                                       778.315000   \n",
       "50%                                      4102.975000   \n",
       "75%                                      8720.747500   \n",
       "max                                     14353.830000   \n",
       "\n",
       "       New Subscribers Per Week  Total Subscribers Per Week  \\\n",
       "count                200.000000                  200.000000   \n",
       "mean               41742.705000               515167.265000   \n",
       "std                16011.055793               247770.916195   \n",
       "min                 1022.000000                 2391.000000   \n",
       "25%                30486.000000               316446.000000   \n",
       "50%                43357.000000               636279.500000   \n",
       "75%                54745.750000               707542.250000   \n",
       "max                76666.000000               767755.000000   \n",
       "\n",
       "       Cumulative Subscribers To Date  Usage_time  \n",
       "count                    2.000000e+02  200.000000  \n",
       "mean                     3.634425e+06  250.900000  \n",
       "std                      2.585772e+06   51.482446  \n",
       "min                      6.116000e+03  161.000000  \n",
       "25%                      1.186680e+06  225.000000  \n",
       "50%                      3.409909e+06  239.000000  \n",
       "75%                      5.869277e+06  277.000000  \n",
       "max                      8.461839e+06  489.000000  "
      ]
     },
     "execution_count": 351,
     "metadata": {},
     "output_type": "execute_result"
    }
   ],
   "source": [
    "df_usage.describe()"
   ]
  },
  {
   "cell_type": "code",
   "execution_count": 352,
   "id": "f397f36e",
   "metadata": {},
   "outputs": [
    {
     "data": {
      "text/plain": [
       "<AxesSubplot:xlabel='Week,Week'>"
      ]
     },
     "execution_count": 352,
     "metadata": {},
     "output_type": "execute_result"
    },
    {
     "data": {
      "image/png": "[encoded data removed]",
      "text/plain": [
       "<Figure size 1800x1000 with 1 Axes>"
      ]
     },
     "metadata": {},
     "output_type": "display_data"
    }
   ],
   "source": [
    "ax,fig = plt.subplots(1,1,figsize = (18,10))\n",
    "\n",
    "df_usage['Sessions Per Week'].groupby([df_usage[\"Week\"].dt.year, df_usage[\"Week\"].dt.month]).mean().plot(kind=\"area\")"
   ]
  },
  {
   "cell_type": "markdown",
   "id": "f4814f75",
   "metadata": {},
   "source": [
    "We can see that the number of weekly sessions gradually increasing and it reaches peak around middle 2018 (roughly speaking, June or July) and after that it decreased a little bit "
   ]
  },
  {
   "cell_type": "code",
   "execution_count": 353,
   "id": "a7b6545a",
   "metadata": {},
   "outputs": [
    {
     "data": {
      "text/plain": [
       "<AxesSubplot:xlabel='Week,Week'>"
      ]
     },
     "execution_count": 353,
     "metadata": {},
     "output_type": "execute_result"
    },
    {
     "data": {
      "image/png": "[encoded data removed]",
      "text/plain": [
       "<Figure size 1800x1000 with 1 Axes>"
      ]
     },
     "metadata": {},
     "output_type": "display_data"
    }
   ],
   "source": [
    "ax,fig = plt.subplots(1,1,figsize = (18,10))\n",
    "df_usage['New Subscribers Per Week'].groupby([df_usage[\"Week\"].dt.year,\n",
    "                                              df_usage[\"Week\"].dt.month]).mean().plot(kind=\"bar\")"
   ]
  },
  {
   "cell_type": "markdown",
   "id": "ffde686e",
   "metadata": {},
   "source": [
    "We can see that the weekly new users are inflated, and seems to reaches a peak during the summer of the year (roughly speaking, May til Oct) "
   ]
  },
  {
   "cell_type": "code",
   "execution_count": null,
   "id": "54a2ec30",
   "metadata": {},
   "outputs": [],
   "source": []
  },
  {
   "cell_type": "code",
   "execution_count": 354,
   "id": "97787783",
   "metadata": {},
   "outputs": [
    {
     "data": {
      "text/plain": [
       "0      181.0\n",
       "1      167.0\n",
       "2      169.0\n",
       "3      189.0\n",
       "4      173.0\n",
       "       ...  \n",
       "195    297.0\n",
       "196    279.0\n",
       "197    303.0\n",
       "198    314.0\n",
       "199    314.0\n",
       "Name: Average Session Duration, Length: 200, dtype: float64"
      ]
     },
     "execution_count": 354,
     "metadata": {},
     "output_type": "execute_result"
    }
   ],
   "source": [
    "test"
   ]
  },
  {
   "cell_type": "code",
   "execution_count": 355,
   "id": "5e02205f",
   "metadata": {},
   "outputs": [
    {
     "data": {
      "text/plain": [
       "<AxesSubplot:xlabel='Week,Week'>"
      ]
     },
     "execution_count": 355,
     "metadata": {},
     "output_type": "execute_result"
    },
    {
     "data": {
      "image/png": "[encoded data removed]",
      "text/plain": [
       "<Figure size 1800x1000 with 1 Axes>"
      ]
     },
     "metadata": {},
     "output_type": "display_data"
    }
   ],
   "source": [
    "ax,fig = plt.subplots(1,1,figsize = (18,10))\n",
    "df_usage['Usage_time'].groupby([df_usage[\"Week\"].dt.year\n",
    "                                ,df_usage[\"Week\"].dt.month]).mean().plot(kind=\"bar\")"
   ]
  },
  {
   "cell_type": "markdown",
   "id": "ae208d70",
   "metadata": {},
   "source": [
    "The overall average usage time is pretty stable and it didn't change much over time "
   ]
  },
  {
   "cell_type": "code",
   "execution_count": null,
   "id": "2871a934",
   "metadata": {},
   "outputs": [],
   "source": []
  }
 ],
 "metadata": {
  "kernelspec": {
   "display_name": "Python 3 (ipykernel)",
   "language": "python",
   "name": "python3"
  },
  "language_info": {
   "codemirror_mode": {
    "name": "ipython",
    "version": 3
   },
   "file_extension": ".py",
   "mimetype": "text/x-python",
   "name": "python",
   "nbconvert_exporter": "python",
   "pygments_lexer": "ipython3",
   "version": "3.9.13"
  }
 },
 "nbformat": 4,
 "nbformat_minor": 5
}
